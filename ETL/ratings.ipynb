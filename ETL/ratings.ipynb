{
 "cells": [
  {
   "cell_type": "code",
   "execution_count": 1,
   "metadata": {},
   "outputs": [],
   "source": [
    "import pandas as pd\n",
    "from constants import list_url\n",
    "import os"
   ]
  },
  {
   "attachments": {},
   "cell_type": "markdown",
   "metadata": {},
   "source": [
    "# No es ETL es DATA"
   ]
  },
  {
   "cell_type": "code",
   "execution_count": 2,
   "metadata": {},
   "outputs": [
    {
     "name": "stdout",
     "output_type": "stream",
     "text": [
      "/home/printer/w/pi_ml_ops_api/ETL\n",
      "[{'url': 'ratings/1.csv'}, {'url': 'ratings/2.csv'}, {'url': 'ratings/3.csv'}, {'url': 'ratings/4.csv'}, {'url': 'ratings/5.csv'}, {'url': 'ratings/6.csv'}, {'url': 'ratings/7.csv'}, {'url': 'ratings/8.csv'}]\n"
     ]
    }
   ],
   "source": [
    "print(os.getcwd())\n",
    "print(list_url)"
   ]
  },
  {
   "cell_type": "code",
   "execution_count": 2,
   "metadata": {},
   "outputs": [],
   "source": [
    "def get_ratings(url):\n",
    "  df = pd.read_csv(os.getcwd()+\"/\" + url, encoding='utf-8')\n",
    "  return df"
   ]
  },
  {
   "cell_type": "code",
   "execution_count": 3,
   "metadata": {},
   "outputs": [
    {
     "data": {
      "text/html": [
       "<div>\n",
       "<style scoped>\n",
       "    .dataframe tbody tr th:only-of-type {\n",
       "        vertical-align: middle;\n",
       "    }\n",
       "\n",
       "    .dataframe tbody tr th {\n",
       "        vertical-align: top;\n",
       "    }\n",
       "\n",
       "    .dataframe thead th {\n",
       "        text-align: right;\n",
       "    }\n",
       "</style>\n",
       "<table border=\"1\" class=\"dataframe\">\n",
       "  <thead>\n",
       "    <tr style=\"text-align: right;\">\n",
       "      <th></th>\n",
       "      <th>index</th>\n",
       "      <th>userId</th>\n",
       "      <th>rating</th>\n",
       "      <th>timestamp</th>\n",
       "      <th>movieId</th>\n",
       "    </tr>\n",
       "  </thead>\n",
       "  <tbody>\n",
       "    <tr>\n",
       "      <th>0</th>\n",
       "      <td>0</td>\n",
       "      <td>1</td>\n",
       "      <td>1.0</td>\n",
       "      <td>1425941529</td>\n",
       "      <td>as680</td>\n",
       "    </tr>\n",
       "    <tr>\n",
       "      <th>1</th>\n",
       "      <td>1</td>\n",
       "      <td>1</td>\n",
       "      <td>4.5</td>\n",
       "      <td>1425942435</td>\n",
       "      <td>ns2186</td>\n",
       "    </tr>\n",
       "    <tr>\n",
       "      <th>2</th>\n",
       "      <td>2</td>\n",
       "      <td>1</td>\n",
       "      <td>5.0</td>\n",
       "      <td>1425941523</td>\n",
       "      <td>hs2381</td>\n",
       "    </tr>\n",
       "    <tr>\n",
       "      <th>3</th>\n",
       "      <td>3</td>\n",
       "      <td>1</td>\n",
       "      <td>5.0</td>\n",
       "      <td>1425941546</td>\n",
       "      <td>ns3663</td>\n",
       "    </tr>\n",
       "    <tr>\n",
       "      <th>4</th>\n",
       "      <td>4</td>\n",
       "      <td>1</td>\n",
       "      <td>5.0</td>\n",
       "      <td>1425941556</td>\n",
       "      <td>as9500</td>\n",
       "    </tr>\n",
       "    <tr>\n",
       "      <th>...</th>\n",
       "      <td>...</td>\n",
       "      <td>...</td>\n",
       "      <td>...</td>\n",
       "      <td>...</td>\n",
       "      <td>...</td>\n",
       "    </tr>\n",
       "    <tr>\n",
       "      <th>11024284</th>\n",
       "      <td>1499995</td>\n",
       "      <td>124380</td>\n",
       "      <td>4.5</td>\n",
       "      <td>1196786159</td>\n",
       "      <td>ns5272</td>\n",
       "    </tr>\n",
       "    <tr>\n",
       "      <th>11024285</th>\n",
       "      <td>1499996</td>\n",
       "      <td>124380</td>\n",
       "      <td>2.5</td>\n",
       "      <td>1196786030</td>\n",
       "      <td>ns5492</td>\n",
       "    </tr>\n",
       "    <tr>\n",
       "      <th>11024286</th>\n",
       "      <td>1499997</td>\n",
       "      <td>124380</td>\n",
       "      <td>3.5</td>\n",
       "      <td>1196785679</td>\n",
       "      <td>hs305</td>\n",
       "    </tr>\n",
       "    <tr>\n",
       "      <th>11024287</th>\n",
       "      <td>1499998</td>\n",
       "      <td>124380</td>\n",
       "      <td>4.5</td>\n",
       "      <td>1196787089</td>\n",
       "      <td>ns7881</td>\n",
       "    </tr>\n",
       "    <tr>\n",
       "      <th>11024288</th>\n",
       "      <td>1499999</td>\n",
       "      <td>124380</td>\n",
       "      <td>1.5</td>\n",
       "      <td>1196785847</td>\n",
       "      <td>as883</td>\n",
       "    </tr>\n",
       "  </tbody>\n",
       "</table>\n",
       "<p>11024289 rows × 5 columns</p>\n",
       "</div>"
      ],
      "text/plain": [
       "            index  userId  rating   timestamp movieId\n",
       "0               0       1     1.0  1425941529   as680\n",
       "1               1       1     4.5  1425942435  ns2186\n",
       "2               2       1     5.0  1425941523  hs2381\n",
       "3               3       1     5.0  1425941546  ns3663\n",
       "4               4       1     5.0  1425941556  as9500\n",
       "...           ...     ...     ...         ...     ...\n",
       "11024284  1499995  124380     4.5  1196786159  ns5272\n",
       "11024285  1499996  124380     2.5  1196786030  ns5492\n",
       "11024286  1499997  124380     3.5  1196785679   hs305\n",
       "11024287  1499998  124380     4.5  1196787089  ns7881\n",
       "11024288  1499999  124380     1.5  1196785847   as883\n",
       "\n",
       "[11024289 rows x 5 columns]"
      ]
     },
     "execution_count": 3,
     "metadata": {},
     "output_type": "execute_result"
    }
   ],
   "source": [
    "ratings_df = []\n",
    "for item in list_url:\n",
    "  df = get_ratings(url=item[\"url\"])\n",
    "  ratings_df.append(df)\n",
    "\n",
    "merged_ratings = pd.concat(ratings_df)\n",
    "merged_ratings.reset_index()"
   ]
  },
  {
   "cell_type": "code",
   "execution_count": 4,
   "metadata": {},
   "outputs": [
    {
     "data": {
      "text/plain": [
       "(11024289, 4)"
      ]
     },
     "execution_count": 4,
     "metadata": {},
     "output_type": "execute_result"
    }
   ],
   "source": [
    "merged_ratings.shape"
   ]
  },
  {
   "cell_type": "code",
   "execution_count": null,
   "metadata": {},
   "outputs": [],
   "source": [
    "compression_opts = dict(method='zip',\n",
    "                        archive_name='out_ratings.csv')\n",
    "\n",
    "merged_ratings.to_csv('out_ratings.zip', encoding='utf-8', index=False, compression=compression_opts)"
   ]
  }
 ],
 "metadata": {
  "kernelspec": {
   "display_name": "venv",
   "language": "python",
   "name": "python3"
  },
  "language_info": {
   "codemirror_mode": {
    "name": "ipython",
    "version": 3
   },
   "file_extension": ".py",
   "mimetype": "text/x-python",
   "name": "python",
   "nbconvert_exporter": "python",
   "pygments_lexer": "ipython3",
   "version": "3.11.2"
  },
  "orig_nbformat": 4,
  "vscode": {
   "interpreter": {
    "hash": "fcdc606fa2ac1684f523089d5c5eb236165ea1e2a83f50faad47aae33edc0a27"
   }
  }
 },
 "nbformat": 4,
 "nbformat_minor": 2
}
