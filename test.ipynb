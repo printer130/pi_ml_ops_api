{
 "cells": [
  {
   "cell_type": "code",
   "execution_count": 4,
   "metadata": {},
   "outputs": [],
   "source": [
    "import pandas as pd"
   ]
  },
  {
   "cell_type": "code",
   "execution_count": 5,
   "metadata": {},
   "outputs": [],
   "source": [
    "df = pd.read_csv('movies_clean.csv')\n",
    "df['country'] = df['country'].str.lower()"
   ]
  },
  {
   "cell_type": "code",
   "execution_count": 6,
   "metadata": {},
   "outputs": [
    {
     "data": {
      "text/plain": [
       "array(['g', '13+', 'all', '18+', 'r', 'tv-y', 'tv-y7', 'nr', '16+',\n",
       "       'tv-pg', '7+', 'tv-14', 'tv-nr', 'tv-g', 'pg-13', 'tv-ma', 'pg',\n",
       "       'nc-17', 'unrated', '16', 'ages_16_', 'ages_18_', 'all_ages',\n",
       "       'not_rate', 'tv-y7-fv', 'not rated', '2 seasons', '4 seasons',\n",
       "       '3 seasons', '1 season', '6 seasons', '12 seasons', 'ur'],\n",
       "      dtype=object)"
      ]
     },
     "execution_count": 6,
     "metadata": {},
     "output_type": "execute_result"
    }
   ],
   "source": [
    "df[\"rating\"].unique()"
   ]
  },
  {
   "cell_type": "code",
   "execution_count": 7,
   "metadata": {},
   "outputs": [],
   "source": [
    "df[\"rating\"] = df[\"rating\"].apply(lambda x: 'unrated' if '2 seasons' in x else x)"
   ]
  },
  {
   "cell_type": "code",
   "execution_count": 13,
   "metadata": {},
   "outputs": [],
   "source": [
    "list_to_replace = [\n",
    "  [\"1 season\", \"unrated\"],\n",
    "  [\"1 seasons\", \"unrated\"],\n",
    "  [\"2 seasons\", \"unrated\"],\n",
    "  [\"3 seasons\", \"unrated\"],\n",
    "  [\"4 seasons\", \"unrated\"],\n",
    "  [\"6 seasons\", \"unrated\"],\n",
    "  [\"not rated\", \"unrated\"],\n",
    "  [\"not_rate\", \"unrated\"],\n",
    "  [\"all_ages\", \"all\"],\n",
    "  [\"ages_18_\", \"18+\"],\n",
    "  [\"ages_16_\", \"16+\"],\n",
    "  [\"16\", \"16+\"]\n",
    "]"
   ]
  },
  {
   "cell_type": "code",
   "execution_count": 14,
   "metadata": {},
   "outputs": [],
   "source": [
    "for i in list_to_replace:\n",
    "  df[\"rating\"] = df[\"rating\"].apply(lambda x: i[1] if i[0] in x else x)"
   ]
  },
  {
   "cell_type": "code",
   "execution_count": 15,
   "metadata": {},
   "outputs": [
    {
     "data": {
      "text/plain": [
       "array(['g', '13+', 'all', '18+', 'r', 'tv-y', 'tv-y7', 'nr', '16+',\n",
       "       'tv-pg', '7+', 'tv-14', 'tv-nr', 'tv-g', 'pg-13', 'tv-ma', 'pg',\n",
       "       'nc-17', 'unrated', 'tv-y7-fv', 'ur'], dtype=object)"
      ]
     },
     "execution_count": 15,
     "metadata": {},
     "output_type": "execute_result"
    }
   ],
   "source": [
    "df[\"rating\"].unique()"
   ]
  },
  {
   "cell_type": "code",
   "execution_count": 17,
   "metadata": {},
   "outputs": [],
   "source": [
    "list_country = df[\"country\"].unique()"
   ]
  },
  {
   "cell_type": "code",
   "execution_count": 27,
   "metadata": {},
   "outputs": [],
   "source": [
    "for country in list_country:\n",
    "  if \",\" in str(country):\n",
    "    continue\n",
    "\n",
    "  result[country] = country"
   ]
  },
  {
   "cell_type": "code",
   "execution_count": 39,
   "metadata": {},
   "outputs": [],
   "source": [
    "with open('list_of_countries.txt', 'w') as f:\n",
    "  f.write(str(list(result)))"
   ]
  }
 ],
 "metadata": {
  "kernelspec": {
   "display_name": "venv",
   "language": "python",
   "name": "python3"
  },
  "language_info": {
   "codemirror_mode": {
    "name": "ipython",
    "version": 3
   },
   "file_extension": ".py",
   "mimetype": "text/x-python",
   "name": "python",
   "nbconvert_exporter": "python",
   "pygments_lexer": "ipython3",
   "version": "3.11.2"
  },
  "orig_nbformat": 4,
  "vscode": {
   "interpreter": {
    "hash": "fcdc606fa2ac1684f523089d5c5eb236165ea1e2a83f50faad47aae33edc0a27"
   }
  }
 },
 "nbformat": 4,
 "nbformat_minor": 2
}
