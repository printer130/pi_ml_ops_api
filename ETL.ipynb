{
 "cells": [
  {
   "cell_type": "code",
   "execution_count": 1,
   "metadata": {},
   "outputs": [],
   "source": [
    "import pandas as pd\n",
    "import numpy as np"
   ]
  },
  {
   "cell_type": "code",
   "execution_count": 4,
   "metadata": {},
   "outputs": [],
   "source": [
    "df = pd.read_csv('data/datasets/netflix_titles.csv')"
   ]
  },
  {
   "cell_type": "code",
   "execution_count": 5,
   "metadata": {},
   "outputs": [
    {
     "data": {
      "text/plain": [
       "(8807, 12)"
      ]
     },
     "execution_count": 5,
     "metadata": {},
     "output_type": "execute_result"
    }
   ],
   "source": [
    "df.shape"
   ]
  },
  {
   "cell_type": "code",
   "execution_count": 6,
   "metadata": {},
   "outputs": [
    {
     "data": {
      "text/plain": [
       "show_id            0\n",
       "type               0\n",
       "title              0\n",
       "director        2634\n",
       "cast             825\n",
       "country          831\n",
       "date_added        10\n",
       "release_year       0\n",
       "rating             4\n",
       "duration           3\n",
       "listed_in          0\n",
       "description        0\n",
       "dtype: int64"
      ]
     },
     "execution_count": 6,
     "metadata": {},
     "output_type": "execute_result"
    }
   ],
   "source": [
    "df.isna().sum()"
   ]
  },
  {
   "cell_type": "code",
   "execution_count": null,
   "metadata": {},
   "outputs": [],
   "source": [
    "\n",
    "df[\"director\"].fillna(\"unknown\", inplace=True)\n",
    "df[\"cast\"].fillna(\"unknown\", inplace=True)\n",
    "df[\"country\"].fillna(\"unknown\", inplace=True)\n",
    "#df[\"date_added\"].fillna(\"no\", inplace=True)\n",
    "df[\"rating\"].fillna(\"G\", inplace=True)"
   ]
  },
  {
   "cell_type": "code",
   "execution_count": null,
   "metadata": {},
   "outputs": [],
   "source": [
    "df['id'] = df.apply(lambda x: \"a\" + x['show_id'], axis=1)"
   ]
  },
  {
   "cell_type": "code",
   "execution_count": null,
   "metadata": {},
   "outputs": [],
   "source": [
    "df.columns"
   ]
  },
  {
   "cell_type": "code",
   "execution_count": null,
   "metadata": {},
   "outputs": [],
   "source": [
    "df.dtypes\n"
   ]
  },
  {
   "cell_type": "code",
   "execution_count": 20,
   "metadata": {},
   "outputs": [
    {
     "data": {
      "text/plain": [
       "'August1,2016'"
      ]
     },
     "execution_count": 20,
     "metadata": {},
     "output_type": "execute_result"
    }
   ],
   "source": []
  },
  {
   "cell_type": "code",
   "execution_count": 23,
   "metadata": {},
   "outputs": [],
   "source": [
    "df[\"date_added\"] =  pd.to_datetime(df[\"date_added\"], format='mixed')"
   ]
  },
  {
   "cell_type": "code",
   "execution_count": 24,
   "metadata": {},
   "outputs": [
    {
     "name": "stderr",
     "output_type": "stream",
     "text": [
      "/tmp/ipykernel_30060/2419651795.py:1: UserWarning: Could not infer format, so each element will be parsed individually, falling back to `dateutil`. To ensure parsing is consistent and as-expected, please specify a format.\n",
      "  df[\"date_added\"] = pd.to_datetime(df[\"date_added\"].dt.strftime('%y%m%d'))\n"
     ]
    }
   ],
   "source": [
    "df[\"date_added\"] = pd.to_datetime(df[\"date_added\"].dt.strftime('%y%m%d'))"
   ]
  },
  {
   "cell_type": "code",
   "execution_count": 25,
   "metadata": {},
   "outputs": [],
   "source": [
    "new = df[\"duration\"].str.split(\" \", n = 1, expand = True)"
   ]
  },
  {
   "cell_type": "code",
   "execution_count": null,
   "metadata": {},
   "outputs": [],
   "source": [
    "df[\"duration_int\"] = new[0]\n",
    "df[\"duration_type\"] = new[1]"
   ]
  },
  {
   "cell_type": "code",
   "execution_count": null,
   "metadata": {},
   "outputs": [],
   "source": [
    "result = df[\"duration_int\"] == 'object'"
   ]
  },
  {
   "cell_type": "code",
   "execution_count": null,
   "metadata": {},
   "outputs": [],
   "source": [
    "if type(t) == np.dtype('U'):\n",
    "  print(t)"
   ]
  },
  {
   "cell_type": "code",
   "execution_count": null,
   "metadata": {},
   "outputs": [],
   "source": [
    "df[\"duration_int\"] = df[\"duration_int\"].apply(lambda x: int(x) if type(x) == np.dtype('U') else x)"
   ]
  },
  {
   "cell_type": "code",
   "execution_count": null,
   "metadata": {},
   "outputs": [],
   "source": [
    "duration_mean = df[\"duration_int\"].mean()"
   ]
  },
  {
   "cell_type": "code",
   "execution_count": null,
   "metadata": {},
   "outputs": [],
   "source": [
    "df[\"duration_int\"].fillna(round(duration_mean), inplace=True)\n",
    "df[\"duration_type\"].fillna(\"unknown\", inplace=True)\n",
    "\n",
    "df[\"duration_int\"].unique()"
   ]
  },
  {
   "cell_type": "code",
   "execution_count": null,
   "metadata": {},
   "outputs": [],
   "source": [
    "df['duration_int'] = df['duration_int'].astype('int')\n",
    "df['release_year'] = df['release_year'].astype('int')"
   ]
  },
  {
   "cell_type": "code",
   "execution_count": null,
   "metadata": {},
   "outputs": [],
   "source": [
    "df[\"duration_int\"].unique()"
   ]
  },
  {
   "cell_type": "code",
   "execution_count": null,
   "metadata": {},
   "outputs": [],
   "source": [
    "df.drop(columns =[\"duration\"], inplace = True)"
   ]
  },
  {
   "cell_type": "code",
   "execution_count": null,
   "metadata": {},
   "outputs": [],
   "source": [
    "df.drop(columns =[\"show_id\"], inplace = True)"
   ]
  },
  {
   "cell_type": "code",
   "execution_count": null,
   "metadata": {},
   "outputs": [],
   "source": [
    "df.head(3)"
   ]
  },
  {
   "cell_type": "code",
   "execution_count": null,
   "metadata": {},
   "outputs": [],
   "source": [
    "df.isna().sum()"
   ]
  },
  {
   "cell_type": "code",
   "execution_count": null,
   "metadata": {},
   "outputs": [],
   "source": [
    "df['duration_type'] = df['duration_type'].replace('Season','Seasons')"
   ]
  },
  {
   "cell_type": "code",
   "execution_count": null,
   "metadata": {},
   "outputs": [],
   "source": [
    "df.dtypes"
   ]
  },
  {
   "cell_type": "code",
   "execution_count": null,
   "metadata": {},
   "outputs": [],
   "source": [
    "dtypes = df.dtypes.to_dict()"
   ]
  },
  {
   "cell_type": "code",
   "execution_count": null,
   "metadata": {},
   "outputs": [],
   "source": [
    "my_type = 'object' # because str have len its not a str :| but object\n",
    "\n",
    "for col_name, typ in dtypes.items():\n",
    "  if typ == my_type:\n",
    "    print(\"To lowercase: \", col_name, typ)\n",
    "    df[col_name] = df[col_name].str.lower()\n",
    "  else:\n",
    "    print('Cannot convert: ', col_name, typ)"
   ]
  },
  {
   "cell_type": "code",
   "execution_count": null,
   "metadata": {},
   "outputs": [],
   "source": [
    "for col in df.columns:\n",
    "  print(\"Col Name:\", col)\n",
    "  print(df[col].unique(), \"\\n\")\n"
   ]
  },
  {
   "cell_type": "code",
   "execution_count": null,
   "metadata": {},
   "outputs": [],
   "source": [
    "df[\"cast\"].unique()"
   ]
  },
  {
   "cell_type": "code",
   "execution_count": null,
   "metadata": {},
   "outputs": [],
   "source": [
    "ratings = pd.read_csv('./out_ratings.csv')"
   ]
  },
  {
   "cell_type": "code",
   "execution_count": null,
   "metadata": {},
   "outputs": [],
   "source": [
    "movies = pd.read_csv('./out.csv')"
   ]
  },
  {
   "cell_type": "code",
   "execution_count": null,
   "metadata": {},
   "outputs": [],
   "source": [
    "ratings.columns"
   ]
  },
  {
   "cell_type": "code",
   "execution_count": null,
   "metadata": {},
   "outputs": [],
   "source": [
    "len(ratings[\"movieId\"].unique())"
   ]
  },
  {
   "cell_type": "code",
   "execution_count": null,
   "metadata": {},
   "outputs": [],
   "source": [
    "ratings[\"movieId\"].unique()"
   ]
  },
  {
   "cell_type": "code",
   "execution_count": null,
   "metadata": {},
   "outputs": [],
   "source": [
    "ratings[ratings[\"movieId\"] == \"hs2381\"][\"rating\"].mean()"
   ]
  },
  {
   "cell_type": "code",
   "execution_count": null,
   "metadata": {},
   "outputs": [],
   "source": [
    "mean_ss = ratings.groupby(\"movieId\")[\"rating\"].mean()"
   ]
  },
  {
   "cell_type": "code",
   "execution_count": null,
   "metadata": {},
   "outputs": [],
   "source": [
    "def get_mean_score(movie_id):\n",
    "  print(movie_id)\n",
    "  m_s = mean_ss[movie_id]\n",
    "  return m_s"
   ]
  },
  {
   "cell_type": "code",
   "execution_count": null,
   "metadata": {},
   "outputs": [],
   "source": [
    "movies[\"mean_score\"] = movies[\"id\"].apply(get_mean_score)"
   ]
  },
  {
   "cell_type": "code",
   "execution_count": 80,
   "metadata": {},
   "outputs": [
    {
     "data": {
      "text/html": [
       "<div>\n",
       "<style scoped>\n",
       "    .dataframe tbody tr th:only-of-type {\n",
       "        vertical-align: middle;\n",
       "    }\n",
       "\n",
       "    .dataframe tbody tr th {\n",
       "        vertical-align: top;\n",
       "    }\n",
       "\n",
       "    .dataframe thead th {\n",
       "        text-align: right;\n",
       "    }\n",
       "</style>\n",
       "<table border=\"1\" class=\"dataframe\">\n",
       "  <thead>\n",
       "    <tr style=\"text-align: right;\">\n",
       "      <th></th>\n",
       "      <th>type</th>\n",
       "      <th>title</th>\n",
       "      <th>director</th>\n",
       "      <th>cast</th>\n",
       "      <th>country</th>\n",
       "      <th>date_added</th>\n",
       "      <th>release_year</th>\n",
       "      <th>rating</th>\n",
       "      <th>listed_in</th>\n",
       "      <th>description</th>\n",
       "      <th>id</th>\n",
       "      <th>platform</th>\n",
       "      <th>duration_int</th>\n",
       "      <th>duration_type</th>\n",
       "      <th>mean_score</th>\n",
       "    </tr>\n",
       "  </thead>\n",
       "  <tbody>\n",
       "    <tr>\n",
       "      <th>0</th>\n",
       "      <td>movie</td>\n",
       "      <td>the grand seduction</td>\n",
       "      <td>don mckellar</td>\n",
       "      <td>brendan gleeson, taylor kitsch, gordon pinsent</td>\n",
       "      <td>canada</td>\n",
       "      <td>2030-03-21</td>\n",
       "      <td>2014</td>\n",
       "      <td>g</td>\n",
       "      <td>comedy, drama</td>\n",
       "      <td>a small fishing village must procure a local d...</td>\n",
       "      <td>as1</td>\n",
       "      <td>amazon</td>\n",
       "      <td>113.0</td>\n",
       "      <td>min</td>\n",
       "      <td>3.467131</td>\n",
       "    </tr>\n",
       "    <tr>\n",
       "      <th>1</th>\n",
       "      <td>movie</td>\n",
       "      <td>take care good night</td>\n",
       "      <td>girish joshi</td>\n",
       "      <td>mahesh manjrekar, abhay mahajan, sachin khedekar</td>\n",
       "      <td>india</td>\n",
       "      <td>2030-03-21</td>\n",
       "      <td>2018</td>\n",
       "      <td>13+</td>\n",
       "      <td>drama, international</td>\n",
       "      <td>a metro family decides to fight a cyber crimin...</td>\n",
       "      <td>as2</td>\n",
       "      <td>amazon</td>\n",
       "      <td>110.0</td>\n",
       "      <td>min</td>\n",
       "      <td>3.548682</td>\n",
       "    </tr>\n",
       "    <tr>\n",
       "      <th>2</th>\n",
       "      <td>movie</td>\n",
       "      <td>secrets of deception</td>\n",
       "      <td>josh webber</td>\n",
       "      <td>tom sizemore, lorenzo lamas, robert lasardo, r...</td>\n",
       "      <td>united states</td>\n",
       "      <td>2030-03-21</td>\n",
       "      <td>2017</td>\n",
       "      <td>g</td>\n",
       "      <td>action, drama, suspense</td>\n",
       "      <td>after a man discovers his wife is cheating on ...</td>\n",
       "      <td>as3</td>\n",
       "      <td>amazon</td>\n",
       "      <td>74.0</td>\n",
       "      <td>min</td>\n",
       "      <td>3.500000</td>\n",
       "    </tr>\n",
       "    <tr>\n",
       "      <th>3</th>\n",
       "      <td>movie</td>\n",
       "      <td>pink: staying true</td>\n",
       "      <td>sonia anderson</td>\n",
       "      <td>interviews with: pink, adele, beyoncé, britney...</td>\n",
       "      <td>united states</td>\n",
       "      <td>2030-03-21</td>\n",
       "      <td>2014</td>\n",
       "      <td>g</td>\n",
       "      <td>documentary</td>\n",
       "      <td>pink breaks the mold once again, bringing her ...</td>\n",
       "      <td>as4</td>\n",
       "      <td>amazon</td>\n",
       "      <td>69.0</td>\n",
       "      <td>min</td>\n",
       "      <td>3.538055</td>\n",
       "    </tr>\n",
       "    <tr>\n",
       "      <th>4</th>\n",
       "      <td>movie</td>\n",
       "      <td>monster maker</td>\n",
       "      <td>giles foster</td>\n",
       "      <td>harry dean stanton, kieran o'brien, george cos...</td>\n",
       "      <td>united kingdom</td>\n",
       "      <td>2030-03-21</td>\n",
       "      <td>1989</td>\n",
       "      <td>g</td>\n",
       "      <td>drama, fantasy</td>\n",
       "      <td>teenage matt banting wants to work with a famo...</td>\n",
       "      <td>as5</td>\n",
       "      <td>amazon</td>\n",
       "      <td>45.0</td>\n",
       "      <td>min</td>\n",
       "      <td>3.478992</td>\n",
       "    </tr>\n",
       "    <tr>\n",
       "      <th>...</th>\n",
       "      <td>...</td>\n",
       "      <td>...</td>\n",
       "      <td>...</td>\n",
       "      <td>...</td>\n",
       "      <td>...</td>\n",
       "      <td>...</td>\n",
       "      <td>...</td>\n",
       "      <td>...</td>\n",
       "      <td>...</td>\n",
       "      <td>...</td>\n",
       "      <td>...</td>\n",
       "      <td>...</td>\n",
       "      <td>...</td>\n",
       "      <td>...</td>\n",
       "      <td>...</td>\n",
       "    </tr>\n",
       "    <tr>\n",
       "      <th>22760</th>\n",
       "      <td>movie</td>\n",
       "      <td>zodiac</td>\n",
       "      <td>david fincher</td>\n",
       "      <td>mark ruffalo, jake gyllenhaal, robert downey j...</td>\n",
       "      <td>united states</td>\n",
       "      <td>2020-11-19</td>\n",
       "      <td>2007</td>\n",
       "      <td>r</td>\n",
       "      <td>cult movies, dramas, thrillers</td>\n",
       "      <td>a political cartoonist, a crime reporter and a...</td>\n",
       "      <td>ns8803</td>\n",
       "      <td>netflix</td>\n",
       "      <td>158.0</td>\n",
       "      <td>min</td>\n",
       "      <td>3.438998</td>\n",
       "    </tr>\n",
       "    <tr>\n",
       "      <th>22761</th>\n",
       "      <td>tv show</td>\n",
       "      <td>zombie dumb</td>\n",
       "      <td>unknown</td>\n",
       "      <td>unknown</td>\n",
       "      <td>unknown</td>\n",
       "      <td>2001-07-19</td>\n",
       "      <td>2018</td>\n",
       "      <td>tv-y7</td>\n",
       "      <td>kids' tv, korean tv shows, tv comedies</td>\n",
       "      <td>while living alone in a spooky town, a young g...</td>\n",
       "      <td>ns8804</td>\n",
       "      <td>netflix</td>\n",
       "      <td>2.0</td>\n",
       "      <td>seasons</td>\n",
       "      <td>3.515947</td>\n",
       "    </tr>\n",
       "    <tr>\n",
       "      <th>22762</th>\n",
       "      <td>movie</td>\n",
       "      <td>zombieland</td>\n",
       "      <td>ruben fleischer</td>\n",
       "      <td>jesse eisenberg, woody harrelson, emma stone, ...</td>\n",
       "      <td>united states</td>\n",
       "      <td>2001-11-19</td>\n",
       "      <td>2009</td>\n",
       "      <td>r</td>\n",
       "      <td>comedies, horror movies</td>\n",
       "      <td>looking to survive in a world taken over by zo...</td>\n",
       "      <td>ns8805</td>\n",
       "      <td>netflix</td>\n",
       "      <td>88.0</td>\n",
       "      <td>min</td>\n",
       "      <td>3.420945</td>\n",
       "    </tr>\n",
       "    <tr>\n",
       "      <th>22763</th>\n",
       "      <td>movie</td>\n",
       "      <td>zoom</td>\n",
       "      <td>peter hewitt</td>\n",
       "      <td>tim allen, courteney cox, chevy chase, kate ma...</td>\n",
       "      <td>united states</td>\n",
       "      <td>2011-01-20</td>\n",
       "      <td>2006</td>\n",
       "      <td>pg</td>\n",
       "      <td>children &amp; family movies, comedies</td>\n",
       "      <td>dragged from civilian life, a former superhero...</td>\n",
       "      <td>ns8806</td>\n",
       "      <td>netflix</td>\n",
       "      <td>88.0</td>\n",
       "      <td>min</td>\n",
       "      <td>3.588050</td>\n",
       "    </tr>\n",
       "    <tr>\n",
       "      <th>22764</th>\n",
       "      <td>movie</td>\n",
       "      <td>zubaan</td>\n",
       "      <td>mozez singh</td>\n",
       "      <td>vicky kaushal, sarah-jane dias, raaghav chanan...</td>\n",
       "      <td>india</td>\n",
       "      <td>2002-03-19</td>\n",
       "      <td>2015</td>\n",
       "      <td>tv-14</td>\n",
       "      <td>dramas, international movies, music &amp; musicals</td>\n",
       "      <td>a scrappy but poor boy worms his way into a ty...</td>\n",
       "      <td>ns8807</td>\n",
       "      <td>netflix</td>\n",
       "      <td>111.0</td>\n",
       "      <td>min</td>\n",
       "      <td>3.529228</td>\n",
       "    </tr>\n",
       "  </tbody>\n",
       "</table>\n",
       "<p>22765 rows × 15 columns</p>\n",
       "</div>"
      ],
      "text/plain": [
       "          type                 title         director  \\\n",
       "0        movie   the grand seduction     don mckellar   \n",
       "1        movie  take care good night     girish joshi   \n",
       "2        movie  secrets of deception      josh webber   \n",
       "3        movie    pink: staying true   sonia anderson   \n",
       "4        movie         monster maker     giles foster   \n",
       "...        ...                   ...              ...   \n",
       "22760    movie                zodiac    david fincher   \n",
       "22761  tv show           zombie dumb          unknown   \n",
       "22762    movie            zombieland  ruben fleischer   \n",
       "22763    movie                  zoom     peter hewitt   \n",
       "22764    movie                zubaan      mozez singh   \n",
       "\n",
       "                                                    cast         country  \\\n",
       "0         brendan gleeson, taylor kitsch, gordon pinsent          canada   \n",
       "1       mahesh manjrekar, abhay mahajan, sachin khedekar           india   \n",
       "2      tom sizemore, lorenzo lamas, robert lasardo, r...   united states   \n",
       "3      interviews with: pink, adele, beyoncé, britney...   united states   \n",
       "4      harry dean stanton, kieran o'brien, george cos...  united kingdom   \n",
       "...                                                  ...             ...   \n",
       "22760  mark ruffalo, jake gyllenhaal, robert downey j...   united states   \n",
       "22761                                            unknown         unknown   \n",
       "22762  jesse eisenberg, woody harrelson, emma stone, ...   united states   \n",
       "22763  tim allen, courteney cox, chevy chase, kate ma...   united states   \n",
       "22764  vicky kaushal, sarah-jane dias, raaghav chanan...           india   \n",
       "\n",
       "       date_added  release_year rating  \\\n",
       "0      2030-03-21          2014      g   \n",
       "1      2030-03-21          2018    13+   \n",
       "2      2030-03-21          2017      g   \n",
       "3      2030-03-21          2014      g   \n",
       "4      2030-03-21          1989      g   \n",
       "...           ...           ...    ...   \n",
       "22760  2020-11-19          2007      r   \n",
       "22761  2001-07-19          2018  tv-y7   \n",
       "22762  2001-11-19          2009      r   \n",
       "22763  2011-01-20          2006     pg   \n",
       "22764  2002-03-19          2015  tv-14   \n",
       "\n",
       "                                            listed_in  \\\n",
       "0                                       comedy, drama   \n",
       "1                                drama, international   \n",
       "2                             action, drama, suspense   \n",
       "3                                         documentary   \n",
       "4                                      drama, fantasy   \n",
       "...                                               ...   \n",
       "22760                  cult movies, dramas, thrillers   \n",
       "22761          kids' tv, korean tv shows, tv comedies   \n",
       "22762                         comedies, horror movies   \n",
       "22763              children & family movies, comedies   \n",
       "22764  dramas, international movies, music & musicals   \n",
       "\n",
       "                                             description      id platform  \\\n",
       "0      a small fishing village must procure a local d...     as1   amazon   \n",
       "1      a metro family decides to fight a cyber crimin...     as2   amazon   \n",
       "2      after a man discovers his wife is cheating on ...     as3   amazon   \n",
       "3      pink breaks the mold once again, bringing her ...     as4   amazon   \n",
       "4      teenage matt banting wants to work with a famo...     as5   amazon   \n",
       "...                                                  ...     ...      ...   \n",
       "22760  a political cartoonist, a crime reporter and a...  ns8803  netflix   \n",
       "22761  while living alone in a spooky town, a young g...  ns8804  netflix   \n",
       "22762  looking to survive in a world taken over by zo...  ns8805  netflix   \n",
       "22763  dragged from civilian life, a former superhero...  ns8806  netflix   \n",
       "22764  a scrappy but poor boy worms his way into a ty...  ns8807  netflix   \n",
       "\n",
       "       duration_int duration_type  mean_score  \n",
       "0             113.0           min    3.467131  \n",
       "1             110.0           min    3.548682  \n",
       "2              74.0           min    3.500000  \n",
       "3              69.0           min    3.538055  \n",
       "4              45.0           min    3.478992  \n",
       "...             ...           ...         ...  \n",
       "22760         158.0           min    3.438998  \n",
       "22761           2.0       seasons    3.515947  \n",
       "22762          88.0           min    3.420945  \n",
       "22763          88.0           min    3.588050  \n",
       "22764         111.0           min    3.529228  \n",
       "\n",
       "[22765 rows x 15 columns]"
      ]
     },
     "execution_count": 80,
     "metadata": {},
     "output_type": "execute_result"
    }
   ],
   "source": [
    "movies"
   ]
  }
 ],
 "metadata": {
  "kernelspec": {
   "display_name": "venv",
   "language": "python",
   "name": "python3"
  },
  "language_info": {
   "codemirror_mode": {
    "name": "ipython",
    "version": 3
   },
   "file_extension": ".py",
   "mimetype": "text/x-python",
   "name": "python",
   "nbconvert_exporter": "python",
   "pygments_lexer": "ipython3",
   "version": "3.11.2"
  },
  "orig_nbformat": 4,
  "vscode": {
   "interpreter": {
    "hash": "fcdc606fa2ac1684f523089d5c5eb236165ea1e2a83f50faad47aae33edc0a27"
   }
  }
 },
 "nbformat": 4,
 "nbformat_minor": 2
}
