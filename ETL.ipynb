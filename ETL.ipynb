{
 "cells": [
  {
   "cell_type": "code",
   "execution_count": 226,
   "metadata": {},
   "outputs": [],
   "source": [
    "import pandas as pd\n",
    "import numpy as np"
   ]
  },
  {
   "cell_type": "code",
   "execution_count": 227,
   "metadata": {},
   "outputs": [],
   "source": [
    "df = pd.read_csv('./datasets/hulu_titles.csv')"
   ]
  },
  {
   "cell_type": "code",
   "execution_count": 256,
   "metadata": {},
   "outputs": [
    {
     "data": {
      "text/plain": [
       "(3073, 13)"
      ]
     },
     "execution_count": 256,
     "metadata": {},
     "output_type": "execute_result"
    }
   ],
   "source": [
    "df.shape"
   ]
  },
  {
   "cell_type": "code",
   "execution_count": 228,
   "metadata": {},
   "outputs": [
    {
     "data": {
      "text/plain": [
       "show_id            0\n",
       "type               0\n",
       "title              0\n",
       "director        3070\n",
       "cast            3073\n",
       "country         1453\n",
       "date_added        28\n",
       "release_year       0\n",
       "rating           520\n",
       "duration         479\n",
       "listed_in          0\n",
       "description        4\n",
       "dtype: int64"
      ]
     },
     "execution_count": 228,
     "metadata": {},
     "output_type": "execute_result"
    }
   ],
   "source": [
    "df.isna().sum()"
   ]
  },
  {
   "cell_type": "code",
   "execution_count": 229,
   "metadata": {},
   "outputs": [],
   "source": [
    "\n",
    "df[\"director\"].fillna(\"unknown\", inplace=True)\n",
    "df[\"cast\"].fillna(\"unknown\", inplace=True)\n",
    "df[\"country\"].fillna(\"unknown\", inplace=True)\n",
    "#df[\"date_added\"].fillna(\"no\", inplace=True)\n",
    "df[\"rating\"].fillna(\"G\", inplace=True)"
   ]
  },
  {
   "cell_type": "code",
   "execution_count": 230,
   "metadata": {},
   "outputs": [],
   "source": [
    "df['id'] = df.apply(lambda x: \"a\" + x['show_id'], axis=1)"
   ]
  },
  {
   "cell_type": "code",
   "execution_count": 231,
   "metadata": {},
   "outputs": [
    {
     "data": {
      "text/plain": [
       "Index(['show_id', 'type', 'title', 'director', 'cast', 'country', 'date_added',\n",
       "       'release_year', 'rating', 'duration', 'listed_in', 'description', 'id'],\n",
       "      dtype='object')"
      ]
     },
     "execution_count": 231,
     "metadata": {},
     "output_type": "execute_result"
    }
   ],
   "source": [
    "df.columns"
   ]
  },
  {
   "cell_type": "code",
   "execution_count": 232,
   "metadata": {},
   "outputs": [
    {
     "data": {
      "text/plain": [
       "show_id         object\n",
       "type            object\n",
       "title           object\n",
       "director        object\n",
       "cast            object\n",
       "country         object\n",
       "date_added      object\n",
       "release_year     int64\n",
       "rating          object\n",
       "duration        object\n",
       "listed_in       object\n",
       "description     object\n",
       "id              object\n",
       "dtype: object"
      ]
     },
     "execution_count": 232,
     "metadata": {},
     "output_type": "execute_result"
    }
   ],
   "source": [
    "df.dtypes\n"
   ]
  },
  {
   "cell_type": "code",
   "execution_count": 233,
   "metadata": {},
   "outputs": [],
   "source": [
    "df[\"date_added\"] =  pd.to_datetime(df[\"date_added\"])"
   ]
  },
  {
   "cell_type": "code",
   "execution_count": 234,
   "metadata": {},
   "outputs": [],
   "source": [
    "df[\"date_added\"] = pd.to_datetime(df[\"date_added\"].dt.strftime('%y%m%d'))"
   ]
  },
  {
   "cell_type": "code",
   "execution_count": 235,
   "metadata": {},
   "outputs": [],
   "source": [
    "new = df[\"duration\"].str.split(\" \", n = 1, expand = True)"
   ]
  },
  {
   "cell_type": "code",
   "execution_count": 236,
   "metadata": {},
   "outputs": [],
   "source": [
    "df[\"duration_int\"] = new[0]\n",
    "df[\"duration_type\"] = new[1]"
   ]
  },
  {
   "cell_type": "code",
   "execution_count": 237,
   "metadata": {},
   "outputs": [],
   "source": [
    "result = df[\"duration_int\"] == 'object'"
   ]
  },
  {
   "cell_type": "code",
   "execution_count": 238,
   "metadata": {},
   "outputs": [],
   "source": [
    "if type(t) == np.dtype('U'):\n",
    "  print(t)"
   ]
  },
  {
   "cell_type": "code",
   "execution_count": 239,
   "metadata": {},
   "outputs": [],
   "source": [
    "df[\"duration_int\"] = df[\"duration_int\"].apply(lambda x: int(x) if type(x) == np.dtype('U') else x)"
   ]
  },
  {
   "cell_type": "code",
   "execution_count": 240,
   "metadata": {},
   "outputs": [],
   "source": [
    "duration_mean = df[\"duration_int\"].mean()"
   ]
  },
  {
   "cell_type": "code",
   "execution_count": 241,
   "metadata": {},
   "outputs": [
    {
     "data": {
      "text/plain": [
       "array([ 40.,  94., 108.,  97., 104.,   1.,  88.,   3., 113.,   6.,  87.,\n",
       "         7.,   2.,   4.,  84.,  95.,  15., 101.,  93., 105.,  12.,   8.,\n",
       "        99., 112., 124.,  23., 145., 125., 157.,  41.,  89.,   5.,  80.,\n",
       "        90., 116., 102., 100., 110., 114., 115., 130., 133.,  91., 121.,\n",
       "        96., 107., 103., 109.,  98., 119., 106., 111., 118., 117., 136.,\n",
       "       181., 182., 128., 138., 126.,  72.,  16.,  20.,   9.,  86.,  75.,\n",
       "       144.,  26.,  76., 129.,  83.,  92., 127., 139.,  79., 192., 131.,\n",
       "       123., 122.,  82.,  10.,  81., 134., 135., 170., 162.,  13.,  45.,\n",
       "       152.,  85.,  14., 146.,  11., 161.,  29., 143., 142.,  63.,  42.,\n",
       "        17., 120.,  77.,  65.,  70.,  19.,  30.,  22., 149.,  52.,  60.,\n",
       "       153., 151.,  46.,  37., 132.,  67.,  44.,  51.,  58.,  71.,  74.,\n",
       "        78.,  25.,  57.,  34.,  54.,  56.])"
      ]
     },
     "execution_count": 241,
     "metadata": {},
     "output_type": "execute_result"
    }
   ],
   "source": [
    "df[\"duration_int\"].fillna(round(duration_mean), inplace=True)\n",
    "df[\"duration_type\"].fillna(\"unknown\", inplace=True)\n",
    "\n",
    "df[\"duration_int\"].unique()"
   ]
  },
  {
   "cell_type": "code",
   "execution_count": 242,
   "metadata": {},
   "outputs": [],
   "source": [
    "df['duration_int'] = df['duration_int'].astype('int')\n",
    "df['release_year'] = df['release_year'].astype('int')"
   ]
  },
  {
   "cell_type": "code",
   "execution_count": 243,
   "metadata": {},
   "outputs": [
    {
     "data": {
      "text/plain": [
       "array([ 40,  94, 108,  97, 104,   1,  88,   3, 113,   6,  87,   7,   2,\n",
       "         4,  84,  95,  15, 101,  93, 105,  12,   8,  99, 112, 124,  23,\n",
       "       145, 125, 157,  41,  89,   5,  80,  90, 116, 102, 100, 110, 114,\n",
       "       115, 130, 133,  91, 121,  96, 107, 103, 109,  98, 119, 106, 111,\n",
       "       118, 117, 136, 181, 182, 128, 138, 126,  72,  16,  20,   9,  86,\n",
       "        75, 144,  26,  76, 129,  83,  92, 127, 139,  79, 192, 131, 123,\n",
       "       122,  82,  10,  81, 134, 135, 170, 162,  13,  45, 152,  85,  14,\n",
       "       146,  11, 161,  29, 143, 142,  63,  42,  17, 120,  77,  65,  70,\n",
       "        19,  30,  22, 149,  52,  60, 153, 151,  46,  37, 132,  67,  44,\n",
       "        51,  58,  71,  74,  78,  25,  57,  34,  54,  56])"
      ]
     },
     "execution_count": 243,
     "metadata": {},
     "output_type": "execute_result"
    }
   ],
   "source": [
    "df[\"duration_int\"].unique()"
   ]
  },
  {
   "cell_type": "code",
   "execution_count": 244,
   "metadata": {},
   "outputs": [],
   "source": [
    "df.drop(columns =[\"duration\"], inplace = True)"
   ]
  },
  {
   "cell_type": "code",
   "execution_count": 245,
   "metadata": {},
   "outputs": [],
   "source": [
    "df.drop(columns =[\"show_id\"], inplace = True)"
   ]
  },
  {
   "cell_type": "code",
   "execution_count": 246,
   "metadata": {},
   "outputs": [
    {
     "data": {
      "text/html": [
       "<div>\n",
       "<style scoped>\n",
       "    .dataframe tbody tr th:only-of-type {\n",
       "        vertical-align: middle;\n",
       "    }\n",
       "\n",
       "    .dataframe tbody tr th {\n",
       "        vertical-align: top;\n",
       "    }\n",
       "\n",
       "    .dataframe thead th {\n",
       "        text-align: right;\n",
       "    }\n",
       "</style>\n",
       "<table border=\"1\" class=\"dataframe\">\n",
       "  <thead>\n",
       "    <tr style=\"text-align: right;\">\n",
       "      <th></th>\n",
       "      <th>type</th>\n",
       "      <th>title</th>\n",
       "      <th>director</th>\n",
       "      <th>cast</th>\n",
       "      <th>country</th>\n",
       "      <th>date_added</th>\n",
       "      <th>release_year</th>\n",
       "      <th>rating</th>\n",
       "      <th>listed_in</th>\n",
       "      <th>description</th>\n",
       "      <th>id</th>\n",
       "      <th>duration_int</th>\n",
       "      <th>duration_type</th>\n",
       "    </tr>\n",
       "  </thead>\n",
       "  <tbody>\n",
       "    <tr>\n",
       "      <th>0</th>\n",
       "      <td>Movie</td>\n",
       "      <td>Ricky Velez: Here's Everything</td>\n",
       "      <td>unknown</td>\n",
       "      <td>unknown</td>\n",
       "      <td>unknown</td>\n",
       "      <td>2024-10-21</td>\n",
       "      <td>2021</td>\n",
       "      <td>TV-MA</td>\n",
       "      <td>Comedy, Stand Up</td>\n",
       "      <td>​Comedian Ricky Velez bares it all with his ho...</td>\n",
       "      <td>as1</td>\n",
       "      <td>40</td>\n",
       "      <td>unknown</td>\n",
       "    </tr>\n",
       "    <tr>\n",
       "      <th>1</th>\n",
       "      <td>Movie</td>\n",
       "      <td>Silent Night</td>\n",
       "      <td>unknown</td>\n",
       "      <td>unknown</td>\n",
       "      <td>unknown</td>\n",
       "      <td>2023-10-21</td>\n",
       "      <td>2020</td>\n",
       "      <td>G</td>\n",
       "      <td>Crime, Drama, Thriller</td>\n",
       "      <td>Mark, a low end South London hitman recently r...</td>\n",
       "      <td>as2</td>\n",
       "      <td>94</td>\n",
       "      <td>min</td>\n",
       "    </tr>\n",
       "    <tr>\n",
       "      <th>2</th>\n",
       "      <td>Movie</td>\n",
       "      <td>The Marksman</td>\n",
       "      <td>unknown</td>\n",
       "      <td>unknown</td>\n",
       "      <td>unknown</td>\n",
       "      <td>2023-10-21</td>\n",
       "      <td>2021</td>\n",
       "      <td>PG-13</td>\n",
       "      <td>Action, Thriller</td>\n",
       "      <td>A hardened Arizona rancher tries to protect an...</td>\n",
       "      <td>as3</td>\n",
       "      <td>108</td>\n",
       "      <td>min</td>\n",
       "    </tr>\n",
       "  </tbody>\n",
       "</table>\n",
       "</div>"
      ],
      "text/plain": [
       "    type                           title director     cast  country  \\\n",
       "0  Movie  Ricky Velez: Here's Everything  unknown  unknown  unknown   \n",
       "1  Movie                    Silent Night  unknown  unknown  unknown   \n",
       "2  Movie                    The Marksman  unknown  unknown  unknown   \n",
       "\n",
       "  date_added  release_year rating               listed_in  \\\n",
       "0 2024-10-21          2021  TV-MA        Comedy, Stand Up   \n",
       "1 2023-10-21          2020      G  Crime, Drama, Thriller   \n",
       "2 2023-10-21          2021  PG-13        Action, Thriller   \n",
       "\n",
       "                                         description   id  duration_int  \\\n",
       "0  ​Comedian Ricky Velez bares it all with his ho...  as1            40   \n",
       "1  Mark, a low end South London hitman recently r...  as2            94   \n",
       "2  A hardened Arizona rancher tries to protect an...  as3           108   \n",
       "\n",
       "  duration_type  \n",
       "0       unknown  \n",
       "1           min  \n",
       "2           min  "
      ]
     },
     "execution_count": 246,
     "metadata": {},
     "output_type": "execute_result"
    }
   ],
   "source": [
    "df.head(3)"
   ]
  },
  {
   "cell_type": "code",
   "execution_count": 247,
   "metadata": {},
   "outputs": [
    {
     "data": {
      "text/plain": [
       "type              0\n",
       "title             0\n",
       "director          0\n",
       "cast              0\n",
       "country           0\n",
       "date_added       28\n",
       "release_year      0\n",
       "rating            0\n",
       "listed_in         0\n",
       "description       4\n",
       "id                0\n",
       "duration_int      0\n",
       "duration_type     0\n",
       "dtype: int64"
      ]
     },
     "execution_count": 247,
     "metadata": {},
     "output_type": "execute_result"
    }
   ],
   "source": [
    "df.isna().sum()"
   ]
  },
  {
   "cell_type": "code",
   "execution_count": 248,
   "metadata": {},
   "outputs": [],
   "source": [
    "df['duration_type'] = df['duration_type'].replace('Season','Seasons')"
   ]
  },
  {
   "cell_type": "code",
   "execution_count": 249,
   "metadata": {},
   "outputs": [
    {
     "data": {
      "text/plain": [
       "type                     object\n",
       "title                    object\n",
       "director                 object\n",
       "cast                     object\n",
       "country                  object\n",
       "date_added       datetime64[ns]\n",
       "release_year              int64\n",
       "rating                   object\n",
       "listed_in                object\n",
       "description              object\n",
       "id                       object\n",
       "duration_int              int64\n",
       "duration_type            object\n",
       "dtype: object"
      ]
     },
     "execution_count": 249,
     "metadata": {},
     "output_type": "execute_result"
    }
   ],
   "source": [
    "df.dtypes"
   ]
  },
  {
   "cell_type": "code",
   "execution_count": 250,
   "metadata": {},
   "outputs": [],
   "source": [
    "dtypes = df.dtypes.to_dict()"
   ]
  },
  {
   "cell_type": "code",
   "execution_count": 251,
   "metadata": {},
   "outputs": [
    {
     "name": "stdout",
     "output_type": "stream",
     "text": [
      "SI type object\n",
      "SI title object\n",
      "SI director object\n",
      "SI cast object\n",
      "SI country object\n",
      "NO date_added datetime64[ns]\n",
      "NO release_year int64\n",
      "SI rating object\n",
      "SI listed_in object\n",
      "SI description object\n",
      "SI id object\n",
      "NO duration_int int64\n",
      "SI duration_type object\n"
     ]
    }
   ],
   "source": [
    "my_type = 'object' # because str have len its not a str :| but object\n",
    "\n",
    "for col_name, typ in dtypes.items():\n",
    "  if typ == my_type:\n",
    "    print(\"To lowercase: \", col_name, typ)\n",
    "    df[col_name] = df[col_name].str.lower()\n",
    "  else:\n",
    "    print('Cannot convert: ', col_name, typ)"
   ]
  },
  {
   "cell_type": "code",
   "execution_count": 252,
   "metadata": {},
   "outputs": [
    {
     "name": "stdout",
     "output_type": "stream",
     "text": [
      "Col Name: type\n",
      "['movie' 'tv show'] \n",
      "\n",
      "Col Name: title\n",
      "[\"ricky velez: here's everything\" 'silent night' 'the marksman' ...\n",
      " 'the fades' 'the twilight zone' 'tokyo magnitude 8.0'] \n",
      "\n",
      "Col Name: director\n",
      "['unknown'\n",
      " 'director jennifer kent (\"the babadook\") tells the sweeping tale of a young woman\\'s quest for revenge set in 1825 against the perilous and unforgiving terrain of tasmania.'\n",
      " 'director gigi saul guerrero talks through culture shock’s themes – immigration, filmmaking, and latinidad – in this one-on-one chat.'\n",
      " 'director alex winter goes inside the biggest global corruption scandal in history that was uncovered by hundreds of journalists, working in secret and at enormous risk.'] \n",
      "\n",
      "Col Name: cast\n",
      "['unknown'] \n",
      "\n",
      "Col Name: country\n",
      "['unknown' 'united states' 'japan' 'united kingdom'\n",
      " 'united kingdom, united states' 'united kingdom, mexico, united states'\n",
      " 'ireland, united kingdom, germany, sweden'\n",
      " 'united states, united kingdom' 'united kingdom, canada, united states'\n",
      " 'canada, united states' 'united states, united kingdom, germany, canada'\n",
      " 'united states, mexico' 'france, united states'\n",
      " 'united states, new zealand' 'canada' 'united states, canada'\n",
      " 'united states, italy' 'canada, united kingdom'\n",
      " 'united states, czech republic, spain' 'australia'\n",
      " 'united states, denmark' 'israel' 'mexico, united states'\n",
      " 'united states, canada, united kingdom' 'united states, australia'\n",
      " 'russia' 'united states, south africa' 'italy, france, germany' 'france'\n",
      " 'united kingdom, spain, ireland, united states' 'spain'\n",
      " 'united states, japan' 'ireland, belgium, united states' 'ireland'\n",
      " 'russia, united states' 'united kingdom, france, united states'\n",
      " 'australia, united kingdom' 'germany, belgium' 'germany, luxembourg'\n",
      " 'united kingdom, france, united states, china'\n",
      " 'poland, united kingdom, ukraine' 'italy, united states' 'germany'\n",
      " 'united kingdom, sweden, germany'\n",
      " 'united states, malta, france, united kingdom'\n",
      " 'united states, canada, ireland'\n",
      " 'chile, netherlands, spain, germany, united states'\n",
      " 'united kingdom, united arab emirates' 'germany, norway'\n",
      " 'sweden, united states, germany, united kingdom'\n",
      " 'united states, united kingdom, italy'\n",
      " 'united kingdom, philippines, hungary, united states'\n",
      " 'united states, germany' 'united states, bulgaria, spain, germany'\n",
      " 'united states, germany, bulgaria, china'\n",
      " 'france, germany, bulgaria, united states' 'south korea'\n",
      " 'canada, united states, spain, south korea'\n",
      " 'czech republic, united kingdom, united states, france'\n",
      " 'china, united states' 'germany, united states, thailand'\n",
      " 'france, germany' 'new zealand' 'sweden, united states' 'france, canada'\n",
      " 'united states, mexico, australia' 'united states, spain'\n",
      " 'ireland, united kingdom, sweden, belgium, united states'\n",
      " 'switzerland, france, belgium, united states'\n",
      " 'denmark, france, sweden, germany, belgium, tunisia'\n",
      " 'romania, france, germany, sweden' 'ireland, france'\n",
      " 'afghanistan, united states' 'canada, united states, mexico'\n",
      " 'united states, serbia, canada'\n",
      " 'united states, united kingdom, australia'\n",
      " 'australia, united arab emirates' 'united kingdom, israel, united states'\n",
      " 'united states, germany, canada, united kingdom'\n",
      " 'canada, united kingdom, united states'\n",
      " 'united states, germany, norway, united kingdom, montenegro'\n",
      " 'united states, ireland' 'united kingdom, united states, canada' 'norway'\n",
      " 'united states, costa rica' 'united states, hong kong'\n",
      " 'united kingdom, denmark, united states'\n",
      " 'united states, australia, colombia, french polynesia, saudi arabia'\n",
      " 'united kingdom, australia' 'united arab emirates, hong kong'\n",
      " 'chile, colombia, spain, united states' 'germany, france, united states'\n",
      " 'mexico' 'austria, united kingdom, germany, france'\n",
      " 'sweden, france, norway, denmark' 'sweden'\n",
      " 'denmark, sweden, france, germany'\n",
      " 'united states, netherlands, united kingdom, denmark'\n",
      " 'colombia, argentina, netherlands, germany, sweden, uruguay, united states, switzerland, denmark, france'\n",
      " 'united states, bulgaria' 'austria, australia, germany, united states'\n",
      " 'australia, united states'\n",
      " 'denmark, germany, france, united kingdom, united states, qatar, syria'\n",
      " 'venezuela' 'finland, germany, canada, sweden, france'\n",
      " 'united kingdom, belgium, united states' 'canada, france'\n",
      " 'colombia, united states' 'italy' 'united states, united kingdom, france'\n",
      " 'united kingdom, germany, united states'\n",
      " 'australia, united states, united kingdom'\n",
      " 'sweden, denmark, united states'\n",
      " 'australia, united states, united kingdom, india, singapore'\n",
      " 'bulgaria, united states' 'italy, france'\n",
      " 'switzerland, united kingdom, france, united states'\n",
      " 'greece, new zealand'\n",
      " 'united kingdom, ireland, united states, germany, japan, france'\n",
      " 'united kingdom, sweden, norway' 'germany, czech republic'\n",
      " 'sweden, denmark' 'france, spain, romania, belgium, united states'\n",
      " 'denmark' 'united kingdom, india, germany, china, united states'\n",
      " 'ireland, united kingdom' 'italy, belgium' 'united states, south korea'\n",
      " 'germany, luxembourg, denmark, belgium, china'\n",
      " 'iceland, poland, denmark, germany, france'\n",
      " 'belgium, france, netherlands' 'france, belgium' 'romania, united states'\n",
      " 'finland, united kingdom, canada' 'united kingdom, argentina' 'colombia'\n",
      " 'italy, brazil, germany, france, sweden, united states'\n",
      " 'sweden, denmark, finland'\n",
      " 'united states, united kingdom, australia, canada'\n",
      " 'united states, canada, mexico' 'norway, france, denmark, sweden'\n",
      " 'france, belgium, united states' 'sweden, france' 'united states, france'\n",
      " 'united kingdom, australia, new zealand, united states'\n",
      " 'japan, united states' 'japan, taiwan' 'united states, china'\n",
      " 'united kingdom, ireland' 'japan, france'\n",
      " 'united kingdom, france, germany, ireland'] \n",
      "\n",
      "Col Name: date_added\n",
      "['2024-10-21T00:00:00.000000000' '2023-10-21T00:00:00.000000000'\n",
      " '2022-10-21T00:00:00.000000000' ... '2001-08-06T00:00:00.000000000'\n",
      " '2014-06-07T00:00:00.000000000'                           'NaT'] \n",
      "\n",
      "Col Name: release_year\n",
      "[2021 2020 2003 2011 2015 2012 2009 2016 2019 2017 2010 2014 2018 2006\n",
      " 2013 1963 1981 1993 2002 1975 2005 2000 2001 1997 1972 1983 1994 2004\n",
      " 1995 1987 1962 1979 1990 1964 1965 1989 1999 1998 1984 1985 2007 1982\n",
      " 1986 1991 1996 1977 1973 2008 1967 1974 1976 1957 1953 1980 1958 1955\n",
      " 1933 1960 1978 1992 1970 1988 1923 1966 1950 1968 1959 1951 1961 1971\n",
      " 1954 1969] \n",
      "\n",
      "Col Name: rating\n",
      "['tv-ma' 'g' 'pg-13' 'r' 'tv-14' 'pg' 'tv-pg' 'not rated' 'tv-g'\n",
      " '2 seasons' 'tv-y' '93 min' '4 seasons' 'tv-y7' '136 min' '91 min'\n",
      " '85 min' '98 min' '89 min' '94 min' '86 min' '3 seasons' '121 min'\n",
      " '88 min' '101 min' '1 season' '83 min' '100 min' '95 min' '92 min'\n",
      " '96 min' '109 min' '99 min' '75 min' '87 min' '67 min' '104 min'\n",
      " '107 min' '84 min' '103 min' '105 min' '119 min' '114 min' '82 min'\n",
      " '90 min' '130 min' '110 min' '80 min' '6 seasons' '97 min' '111 min'\n",
      " '81 min' '49 min' '45 min' '41 min' '73 min' '40 min' '36 min' '39 min'\n",
      " '34 min' '47 min' '65 min' '37 min' '78 min' '102 min' '129 min'\n",
      " '115 min' '112 min' 'nr' '61 min' '106 min' '76 min' '77 min' '79 min'\n",
      " '157 min' '28 min' '64 min' '7 min' '5 min' '6 min' '127 min' '142 min'\n",
      " '108 min' '57 min' '118 min' '116 min' '12 seasons' '71 min'] \n",
      "\n",
      "Col Name: listed_in\n",
      "['comedy, stand up' 'crime, drama, thriller' 'action, thriller' 'horror'\n",
      " 'science fiction, thriller' 'family, kids' 'horror, thriller'\n",
      " 'cooking & food, documentaries, lifestyle & culture' 'drama, music'\n",
      " 'reality, romance' 'music, news' 'comedy, drama' 'news' 'drama, mystery'\n",
      " 'reality' 'sports' 'documentaries, history' 'history, reality'\n",
      " 'documentaries, reality, teen' 'thriller'\n",
      " 'health & wellness, lifestyle & culture, reality'\n",
      " 'black stories, reality' 'documentaries, reality, romance'\n",
      " 'documentaries, drama, mystery' 'documentaries, reality'\n",
      " 'documentaries, news' 'latino, reality'\n",
      " 'latino, mystery, science fiction' 'comedy, latino'\n",
      " 'documentaries, sports' 'action, adventure, comedy' 'drama' 'comedy'\n",
      " 'documentaries' 'crime, documentaries' 'action, adventure, anime'\n",
      " 'action, adventure' 'anime'\n",
      " 'cooking & food, lifestyle & culture, reality' 'comedy, crime, drama'\n",
      " 'reality, teen' 'comedy, family' 'comedy, drama, romance'\n",
      " 'action, adventure, drama' 'drama, romance, thriller'\n",
      " 'comedy, late night, sketch comedy' 'adventure, drama, science fiction'\n",
      " 'action, adventure, horror' 'black stories, drama, history'\n",
      " 'crime, drama' 'kids' 'comedy, family, kids'\n",
      " 'drama, romance, science fiction' 'drama, horror, thriller'\n",
      " 'adventure, family, kids' 'adventure, drama, history'\n",
      " 'action, crime, drama' 'drama, horror, science fiction'\n",
      " 'action, adventure, classics' 'action, adventure, thriller'\n",
      " 'adventure, comedy, family' 'drama, romance'\n",
      " 'black stories, drama, lgbtq+' 'action, adventure, science fiction'\n",
      " 'action, adventure, crime' 'comedy, romance' 'comedy, teen'\n",
      " 'horror, science fiction, thriller' 'action, adventure, family'\n",
      " 'action, drama' 'drama, teen' 'comedy, drama, family' 'comedy, music'\n",
      " 'action, adventure, black stories' 'classics, crime, drama'\n",
      " 'comedy, horror, news' 'drama, thriller' 'drama, horror'\n",
      " 'adult animation, comedy, sitcom' 'crime, mystery'\n",
      " 'adventure, comedy, kids' 'documentaries, lgbtq+'\n",
      " 'drama, horror, mystery' 'crime, drama, mystery' 'drama, science fiction'\n",
      " 'kids, latino' 'music, reality' 'comedy, sitcom' 'comedy, family, sitcom'\n",
      " 'comedy, music, reality' 'health & wellness, news'\n",
      " 'family, lifestyle & culture, reality' 'comedy, late night'\n",
      " 'comedy, lgbtq+, sitcom' 'comedy, reality' 'crime, documentaries, sports'\n",
      " 'cooking & food, drama, lifestyle & culture' 'action, comedy, thriller'\n",
      " 'cooking & food, lifestyle & culture' 'documentaries, drama, sports'\n",
      " 'documentaries, latino, music' 'drama, kids' 'crime' 'family, latino'\n",
      " 'comedy, drama, lgbtq+' 'documentaries, international, latino'\n",
      " 'drama, history' 'anime, comedy, drama' 'game shows, reality'\n",
      " 'lifestyle & culture, reality' 'comedy, drama, music'\n",
      " 'black stories, drama' 'action, drama, science fiction'\n",
      " 'drama, history, music' 'music' 'cartoons' 'drama, music, romance'\n",
      " 'drama, family, kids' 'adventure, kids'\n",
      " 'drama, science fiction, thriller' 'drama, sports'\n",
      " 'black stories, crime, drama' 'drama, international'\n",
      " 'drama, international, romance' 'action, drama, thriller'\n",
      " 'drama, mystery, science fiction' 'comedy, mystery'\n",
      " 'international, latino, reality' 'lifestyle & culture'\n",
      " 'adventure, science fiction' 'action, adult animation, adventure'\n",
      " 'drama, lgbtq+, romance' 'adventure, comedy' 'reality, sports'\n",
      " 'horror, mystery, thriller' 'black stories, documentaries'\n",
      " 'documentaries, drama' 'adventure, cartoons, family'\n",
      " 'drama, horror, latino' 'action, black stories, comedy'\n",
      " 'classics, documentaries, drama' 'adventure, drama, romance'\n",
      " 'comedy, horror' 'documentaries, music' 'romance'\n",
      " 'family, game shows, reality' 'news, science & technology'\n",
      " 'drama, history, horror' 'drama, international, mystery'\n",
      " 'comedy, thriller' 'anime, international' 'science fiction'\n",
      " 'adult animation, drama, science fiction' 'documentaries, international'\n",
      " 'drama, history, thriller' 'international, reality, romance'\n",
      " 'comedy, international, latino' 'black stories, comedy, sitcom'\n",
      " 'comedy, drama, international' 'drama, horror, international'\n",
      " 'action, horror, science fiction' 'documentaries, thriller'\n",
      " 'horror, science fiction' 'drama, lgbtq+, music'\n",
      " 'action, horror, thriller' 'drama, mystery, thriller'\n",
      " 'black stories, comedy, crime' 'crime, drama, international'\n",
      " 'adventure, drama, horror' 'black stories, lgbtq+, reality'\n",
      " 'comedy, international' 'drama, history, lgbtq+' 'comedy, kids'\n",
      " 'action, adventure, mystery' 'lifestyle & culture, news'\n",
      " 'documentaries, reality, science & technology'\n",
      " 'game shows, reality, sports'\n",
      " 'cooking & food, family, lifestyle & culture' 'drama, family, teen'\n",
      " 'crime, documentaries, drama' 'action, adventure, documentaries'\n",
      " 'action, adventure, reality' 'documentaries, drama, history'\n",
      " 'documentaries, history, reality' 'news, reality, science & technology'\n",
      " 'drama, lgbtq+, thriller' 'documentaries, international, lgbtq+'\n",
      " 'action, horror' 'drama, lgbtq+, latino' 'international, reality'\n",
      " 'drama, international, lgbtq+' 'family, music, reality'\n",
      " 'black stories, comedy, drama' 'adventure, drama'\n",
      " 'crime, mystery, thriller' 'comedy, drama, thriller'\n",
      " 'documentaries, health & wellness, lifestyle & culture'\n",
      " 'crime, documentaries, mystery'\n",
      " 'black stories, drama, lifestyle & culture'\n",
      " 'adult animation, comedy, science fiction' 'history, news'\n",
      " 'documentaries, drama, lgbtq+' 'comedy, drama, science fiction'\n",
      " 'adventure, documentaries, reality' 'action, comedy'\n",
      " 'black stories, drama, family' 'comedy, reality, romance'\n",
      " 'crime, drama, lgbtq+' 'comedy, latino, sitcom'\n",
      " 'black stories, documentaries, music' 'crime, drama, horror'\n",
      " 'crime, documentaries, music' 'action, anime, thriller' 'action, sports'\n",
      " 'mystery, thriller' 'documentaries, science & technology'\n",
      " 'action, anime, drama' 'comedy, documentaries'\n",
      " 'comedy, documentaries, history' 'adventure, cartoons, comedy'\n",
      " 'black stories, lgbtq+, lifestyle & culture' 'action, anime, comedy'\n",
      " 'comedy, drama, horror' 'crime, documentaries, reality'\n",
      " 'adventure, comedy, romance' 'comedy, science fiction, sitcom'\n",
      " 'comedy, lgbtq+' 'drama, family, international' 'latino, sports'\n",
      " 'drama, lifestyle & culture' 'cooking & food, family, reality'\n",
      " 'comedy, news' 'action, adventure, news' 'history'\n",
      " 'documentaries, history, latino' 'documentaries, science fiction'\n",
      " 'documentaries, lifestyle & culture' 'documentaries, music, news'\n",
      " 'black stories, documentaries, romance' 'drama, lgbtq+'\n",
      " 'black stories, thriller' 'comedy, horror, thriller'\n",
      " 'black stories, drama, reality' 'comedy, documentaries, drama'\n",
      " 'comedy, lifestyle & culture' 'comedy, lifestyle & culture, reality'\n",
      " 'action, adventure, lifestyle & culture' 'game shows'\n",
      " 'adventure, anime, drama' 'classics, drama, music'\n",
      " 'comedy, science fiction' 'action, adventure, cartoons' 'drama, family'\n",
      " 'black stories, drama, horror' 'comedy, international, sitcom'\n",
      " 'news, reality' 'action, anime, international'\n",
      " 'drama, family, science fiction' 'adventure, kids, science fiction'\n",
      " 'adventure, cartoons, kids' 'adventure, drama, mystery'\n",
      " 'documentaries, drama, news' 'black stories, horror, thriller'\n",
      " 'black stories, documentaries, sports' 'comedy, news, stand up'\n",
      " 'action, comedy, crime' 'action' 'adult animation, adventure, comedy'\n",
      " 'kids, teen' 'drama, kids, teen' 'documentaries, family, reality'\n",
      " 'black stories, horror' 'crime, documentaries, news'\n",
      " 'documentaries, news, science & technology' 'cartoons, family, kids'\n",
      " 'adventure, drama, family' 'action, drama, horror' 'drama, latino'\n",
      " 'action, adventure, kids' 'comedy, latino, news'\n",
      " 'action, science fiction' 'black stories, comedy, family'\n",
      " 'comedy, documentaries, stand up' 'documentaries, international, reality'\n",
      " 'black stories, comedy' 'action, adventure, latino'\n",
      " 'game shows, music, reality' 'black stories, drama, romance'\n",
      " 'international, kids' 'science & technology'\n",
      " 'family, international, kids' 'adult animation, comedy'\n",
      " 'family, kids, lifestyle & culture' 'action, kids'\n",
      " 'documentaries, drama, science & technology' 'drama, health & wellness'\n",
      " 'documentaries, kids' 'documentaries, health & wellness, reality'\n",
      " 'drama, mystery, reality' 'drama, international, science fiction'\n",
      " 'black stories, documentaries, drama' 'comedy, drama, latino'\n",
      " 'comedy, lgbtq+, romance' 'black stories, cartoons, kids'\n",
      " 'cartoons, comedy, kids' 'family, health & wellness, reality'\n",
      " 'adventure, documentaries' 'documentaries, reality, sports'\n",
      " 'comedy, drama, history' 'anime, drama, history' 'classics, news'\n",
      " 'black stories, lifestyle & culture, reality' 'drama, reality'\n",
      " 'drama, international, latino' 'adventure, international, thriller'\n",
      " 'drama, international, thriller' 'black stories, drama, kids'\n",
      " 'anime, drama, international' 'black stories, crime, documentaries'\n",
      " 'anime, science fiction' 'anime, comedy, science fiction'\n",
      " 'comedy, documentaries, horror' 'comedy, lgbtq+, music'\n",
      " 'adventure, anime, international' 'anime, drama, science fiction'\n",
      " 'anime, comedy, international' 'anime, international, science fiction'\n",
      " 'anime, kids' 'documentaries, lgbtq+, reality'\n",
      " 'family, lifestyle & culture' 'crime, drama, latino'\n",
      " 'cooking & food, documentaries, reality' 'action, comedy, drama'\n",
      " 'black stories, comedy, romance' 'comedy, family, science fiction'\n",
      " 'crime, horror' 'horror, lgbtq+, thriller' 'anime, crime, drama'\n",
      " 'action, crime, mystery' 'anime, drama' 'documentaries, family'\n",
      " 'anime, crime' 'drama, romance, teen' 'black stories, comedy, horror'\n",
      " 'family, reality, sports' 'anime, comedy, romance' 'crime, reality'\n",
      " 'drama, family, music' 'black stories, music, reality'\n",
      " 'black stories, drama, music' 'latino, music, reality'\n",
      " 'documentaries, history, news' 'action, anime, science fiction'\n",
      " 'drama, horror, teen'\n",
      " 'documentaries, lifestyle & culture, science & technology'\n",
      " 'documentaries, history, lifestyle & culture'\n",
      " 'documentaries, lifestyle & culture, news'\n",
      " 'documentaries, lifestyle & culture, music' 'crime, drama, teen'\n",
      " 'cartoons, comedy, family' 'drama, horror, music' 'kids, lgbtq+'\n",
      " 'family, game shows, music' 'lifestyle & culture, reality, sports'\n",
      " 'comedy, latino, stand up' 'comedy, history' 'anime, family, kids'\n",
      " 'international, romance, thriller' 'cooking & food'\n",
      " 'action, comedy, lgbtq+' 'black stories, drama, mystery'\n",
      " 'comedy, horror, sitcom' 'classics, comedy, family'\n",
      " 'drama, history, romance' 'documentaries, horror, science & technology'\n",
      " 'classics, comedy, drama' 'documentaries, latino'\n",
      " 'family, science fiction' 'black stories, comedy, science fiction'\n",
      " 'latino' 'action, comedy, horror' 'comedy, sitcom, teen' 'family'\n",
      " 'comedy, drama, teen' 'adventure, black stories, comedy'\n",
      " 'drama, latino, romance' 'adventure, family, lifestyle & culture'\n",
      " 'drama, international, sports' 'comedy, kids, sitcom'\n",
      " 'action, adventure, health & wellness' 'cartoons, kids'\n",
      " 'classics, horror, thriller' 'anime, horror, international'\n",
      " 'adult animation, international, latino' 'comedy, drama, sitcom'\n",
      " 'black stories, classics, comedy'\n",
      " 'cooking & food, international, lifestyle & culture'\n",
      " 'family, horror, reality' 'drama, latino, teen' 'comedy, romance, sitcom'\n",
      " 'adult animation, comedy, international' 'anime, comedy, horror'\n",
      " 'anime, international, mystery' 'anime, drama, horror'\n",
      " 'adult animation, black stories, comedy' 'comedy, music, sitcom'\n",
      " 'lifestyle & culture, reality, teen' 'science fiction, teen'\n",
      " 'action, adult animation, anime' 'adventure, anime' 'action, anime'\n",
      " 'classics, comedy, sitcom' 'adventure, comedy, drama' 'family, reality'\n",
      " 'drama, history, international' 'cartoons, kids, lgbtq+'\n",
      " 'classics, drama, history' 'comedy, crime, international'\n",
      " 'adventure, reality' 'adventure, kids, latino'\n",
      " 'classics, family, lifestyle & culture' 'comedy, family, international'\n",
      " 'anime, comedy' 'anime, international, romance' 'family, kids, latino'\n",
      " 'black stories, comedy, sketch comedy' 'adult animation, comedy, latino'\n",
      " 'crime, drama, history' 'comedy, international, sketch comedy'\n",
      " 'action, adult animation' 'comedy, music, teen' 'comedy, family, teen'\n",
      " 'drama, family, mystery' 'adventure, drama, international'\n",
      " 'adventure, anime, science fiction' 'adventure, anime, kids'\n",
      " 'adventure, anime, comedy' 'drama, science fiction, teen'\n",
      " 'comedy, family, history' 'comedy, horror, mystery'\n",
      " 'horror, international, science fiction'\n",
      " 'classics, science fiction, thriller'] \n",
      "\n",
      "Col Name: description\n",
      "['\\u200bcomedian ricky velez bares it all with his honest lens and down to earth perspective in his first-ever hbo stand-up special.'\n",
      " 'mark, a low end south london hitman recently released from prison, tries to go straight for his daughter, but gets drawn back in by alan, his former cellmate, to do one final job.'\n",
      " 'a hardened arizona rancher tries to protect an 11-year-old migrant boy fleeing from a ruthless drug cartel.'\n",
      " ...\n",
      " 'seventeen-year-old paul is haunted by apocalyptic dreams. worse still, paul is starting to see the fades, spirits of the dead, all around him. the fate of humanity now rests in his hands.'\n",
      " \"rod serling's seminal anthology series focused on ordinary folks who suddenly found themselves in extraordinary, usually supernatural, situations.\"\n",
      " 'the devastation is unleashed in the span of seconds. an ancient rift in the earth gives way and a force equivalent to over a thousand atomic bombs erupts beneath the feet of the citizens of the world’s largest mega-cities! in the mangled streets, three survivors must brave impossible obstacles and endure unspeakable hardships, with no way of knowing if their loved ones are still alive. in the aftermath of nature’s fury, only the strongest of will and most courageous of heart can hope to survive in tokyo magnitude 8.0!'] \n",
      "\n",
      "Col Name: id\n",
      "['as1' 'as2' 'as3' ... 'as3071' 'as3072' 'as3073'] \n",
      "\n",
      "Col Name: duration_int\n",
      "[ 40  94 108  97 104   1  88   3 113   6  87   7   2   4  84  95  15 101\n",
      "  93 105  12   8  99 112 124  23 145 125 157  41  89   5  80  90 116 102\n",
      " 100 110 114 115 130 133  91 121  96 107 103 109  98 119 106 111 118 117\n",
      " 136 181 182 128 138 126  72  16  20   9  86  75 144  26  76 129  83  92\n",
      " 127 139  79 192 131 123 122  82  10  81 134 135 170 162  13  45 152  85\n",
      "  14 146  11 161  29 143 142  63  42  17 120  77  65  70  19  30  22 149\n",
      "  52  60 153 151  46  37 132  67  44  51  58  71  74  78  25  57  34  54\n",
      "  56] \n",
      "\n",
      "Col Name: duration_type\n",
      "['unknown' 'min' 'seasons'] \n",
      "\n"
     ]
    }
   ],
   "source": [
    "for col in df.columns:\n",
    "  print(\"Col Name:\", col)\n",
    "  print(df[col].unique(), \"\\n\")\n"
   ]
  },
  {
   "cell_type": "code",
   "execution_count": 255,
   "metadata": {},
   "outputs": [
    {
     "data": {
      "text/plain": [
       "array(['unknown'], dtype=object)"
      ]
     },
     "execution_count": 255,
     "metadata": {},
     "output_type": "execute_result"
    }
   ],
   "source": [
    "df[\"cast\"].unique()"
   ]
  },
  {
   "cell_type": "code",
   "execution_count": 258,
   "metadata": {},
   "outputs": [],
   "source": [
    "ou9t = pd.read_csv('./out.csv')"
   ]
  },
  {
   "cell_type": "code",
   "execution_count": 259,
   "metadata": {},
   "outputs": [
    {
     "data": {
      "text/plain": [
       "type                0\n",
       "title               0\n",
       "director            0\n",
       "cast                0\n",
       "country             0\n",
       "date_added       9554\n",
       "release_year        0\n",
       "rating              0\n",
       "listed_in           0\n",
       "description         4\n",
       "id                  0\n",
       "platform            0\n",
       "duration_int        0\n",
       "duration_type       0\n",
       "dtype: int64"
      ]
     },
     "execution_count": 259,
     "metadata": {},
     "output_type": "execute_result"
    }
   ],
   "source": [
    "ou9t.isna().sum()"
   ]
  }
 ],
 "metadata": {
  "kernelspec": {
   "display_name": "venv",
   "language": "python",
   "name": "python3"
  },
  "language_info": {
   "codemirror_mode": {
    "name": "ipython",
    "version": 3
   },
   "file_extension": ".py",
   "mimetype": "text/x-python",
   "name": "python",
   "nbconvert_exporter": "python",
   "pygments_lexer": "ipython3",
   "version": "3.9.2"
  },
  "orig_nbformat": 4
 },
 "nbformat": 4,
 "nbformat_minor": 2
}
